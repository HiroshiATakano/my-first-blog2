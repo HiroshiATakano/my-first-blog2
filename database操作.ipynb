{
 "cells": [
  {
   "cell_type": "code",
   "execution_count": 13,
   "id": "responsible-zimbabwe",
   "metadata": {},
   "outputs": [],
   "source": [
    "import sqlite3\n",
    "import pandas as pd\n",
    "import sys"
   ]
  },
  {
   "cell_type": "code",
   "execution_count": 20,
   "id": "proof-beverage",
   "metadata": {},
   "outputs": [
    {
     "name": "stdout",
     "output_type": "stream",
     "text": [
      "\u001b[0m\u001b[01;32mProcfile\u001b[0m*  \u001b[01;32mdatabase操作.ipynb\u001b[0m*  \u001b[34;42mmedia\u001b[0m/   \u001b[34;42mpython-getting-started\u001b[0m/\r\n",
      "\u001b[34;42malbum\u001b[0m/     \u001b[01;32mdb.sqlite3\u001b[0m*          \u001b[34;42mmyenv2\u001b[0m/  \u001b[01;32mrequirements.txt\u001b[0m*\r\n",
      "\u001b[34;42mblog\u001b[0m/      \u001b[01;32mmanage.py\u001b[0m*           \u001b[34;42mmysite\u001b[0m/  \u001b[01;32mruntime.txt\u001b[0m*\r\n"
     ]
    }
   ],
   "source": [
    "%ls"
   ]
  },
  {
   "cell_type": "code",
   "execution_count": 21,
   "id": "twenty-component",
   "metadata": {},
   "outputs": [],
   "source": [
    "dbname = \"db.sqlite3\"\n",
    "conn = sqlite3.connect(dbname)\n",
    "cur = conn.cursor()"
   ]
  },
  {
   "cell_type": "code",
   "execution_count": 22,
   "id": "infrared-beginning",
   "metadata": {},
   "outputs": [
    {
     "name": "stdout",
     "output_type": "stream",
     "text": [
      "('django_migrations',)\n",
      "('sqlite_sequence',)\n",
      "('auth_group_permissions',)\n",
      "('auth_user_groups',)\n",
      "('auth_user_user_permissions',)\n",
      "('django_admin_log',)\n",
      "('django_content_type',)\n",
      "('auth_permission',)\n",
      "('auth_user',)\n",
      "('auth_group',)\n",
      "('django_session',)\n",
      "('blog_post',)\n",
      "('blog_comment',)\n",
      "('album_image',)\n"
     ]
    }
   ],
   "source": [
    "#SQL命令文（データベース中のテーブル名を取得する）\n",
    "sql = \"\"\"SELECT name FROM sqlite_master WHERE TYPE='table'\"\"\"\n",
    "\n",
    "#命令を実行してテーブル名を取得\n",
    "for t in cur.execute(sql):\n",
    "    print(t)"
   ]
  },
  {
   "cell_type": "code",
   "execution_count": 23,
   "id": "typical-retailer",
   "metadata": {},
   "outputs": [
    {
     "data": {
      "text/html": [
       "<div>\n",
       "<style scoped>\n",
       "    .dataframe tbody tr th:only-of-type {\n",
       "        vertical-align: middle;\n",
       "    }\n",
       "\n",
       "    .dataframe tbody tr th {\n",
       "        vertical-align: top;\n",
       "    }\n",
       "\n",
       "    .dataframe thead th {\n",
       "        text-align: right;\n",
       "    }\n",
       "</style>\n",
       "<table border=\"1\" class=\"dataframe\">\n",
       "  <thead>\n",
       "    <tr style=\"text-align: right;\">\n",
       "      <th></th>\n",
       "      <th>id</th>\n",
       "      <th>title</th>\n",
       "      <th>text</th>\n",
       "      <th>comment</th>\n",
       "      <th>created_date</th>\n",
       "      <th>published_date</th>\n",
       "      <th>author_id</th>\n",
       "    </tr>\n",
       "  </thead>\n",
       "  <tbody>\n",
       "    <tr>\n",
       "      <th>0</th>\n",
       "      <td>8</td>\n",
       "      <td>走ってきた</td>\n",
       "      <td>風が強かった</td>\n",
       "      <td>夜は、セミナー</td>\n",
       "      <td>2021-03-03 06:56:03.305656</td>\n",
       "      <td>2021-03-05 08:11:51.420284</td>\n",
       "      <td>1</td>\n",
       "    </tr>\n",
       "    <tr>\n",
       "      <th>1</th>\n",
       "      <td>9</td>\n",
       "      <td>2021-3-6</td>\n",
       "      <td>カリセさん花粉症らしい</td>\n",
       "      <td>みえこちゃんは具合が悪い</td>\n",
       "      <td>2021-03-05 13:47:40.454831</td>\n",
       "      <td>2021-03-06 13:09:42.967186</td>\n",
       "      <td>1</td>\n",
       "    </tr>\n",
       "    <tr>\n",
       "      <th>2</th>\n",
       "      <td>17</td>\n",
       "      <td>寿町でセミナー</td>\n",
       "      <td>寿町でセミナー</td>\n",
       "      <td>11時ごろ出かけよう\\r\\nちょっと、早すぎ、有隣堂から回った見た。</td>\n",
       "      <td>2021-03-07 01:49:48.805533</td>\n",
       "      <td>2021-03-07 01:49:52.396729</td>\n",
       "      <td>1</td>\n",
       "    </tr>\n",
       "    <tr>\n",
       "      <th>3</th>\n",
       "      <td>23</td>\n",
       "      <td>寿町</td>\n",
       "      <td>いってみた</td>\n",
       "      <td>行った</td>\n",
       "      <td>2021-03-08 07:38:17.130198</td>\n",
       "      <td>2021-03-08 07:38:33.883706</td>\n",
       "      <td>1</td>\n",
       "    </tr>\n",
       "  </tbody>\n",
       "</table>\n",
       "</div>"
      ],
      "text/plain": [
       "   id     title         text                             comment  \\\n",
       "0   8     走ってきた       風が強かった                             夜は、セミナー   \n",
       "1   9  2021-3-6  カリセさん花粉症らしい                        みえこちゃんは具合が悪い   \n",
       "2  17   寿町でセミナー      寿町でセミナー  11時ごろ出かけよう\\r\\nちょっと、早すぎ、有隣堂から回った見た。   \n",
       "3  23        寿町        いってみた                                 行った   \n",
       "\n",
       "                 created_date              published_date  author_id  \n",
       "0  2021-03-03 06:56:03.305656  2021-03-05 08:11:51.420284          1  \n",
       "1  2021-03-05 13:47:40.454831  2021-03-06 13:09:42.967186          1  \n",
       "2  2021-03-07 01:49:48.805533  2021-03-07 01:49:52.396729          1  \n",
       "3  2021-03-08 07:38:17.130198  2021-03-08 07:38:33.883706          1  "
      ]
     },
     "execution_count": 23,
     "metadata": {},
     "output_type": "execute_result"
    }
   ],
   "source": [
    "df = pd.read_sql('SELECT * FROM blog_post', conn)\n",
    "df"
   ]
  },
  {
   "cell_type": "code",
   "execution_count": null,
   "id": "buried-fitting",
   "metadata": {},
   "outputs": [],
   "source": []
  },
  {
   "cell_type": "code",
   "execution_count": null,
   "id": "daily-cabinet",
   "metadata": {},
   "outputs": [],
   "source": []
  }
 ],
 "metadata": {
  "kernelspec": {
   "display_name": "Python 3",
   "language": "python",
   "name": "python3"
  },
  "language_info": {
   "codemirror_mode": {
    "name": "ipython",
    "version": 3
   },
   "file_extension": ".py",
   "mimetype": "text/x-python",
   "name": "python",
   "nbconvert_exporter": "python",
   "pygments_lexer": "ipython3",
   "version": "3.7.7"
  }
 },
 "nbformat": 4,
 "nbformat_minor": 5
}
